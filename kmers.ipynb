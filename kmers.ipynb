{
  "nbformat": 4,
  "nbformat_minor": 0,
  "metadata": {
    "colab": {
      "provenance": [],
      "authorship_tag": "ABX9TyMTy8Ot6pZp0O5UAIBjduSN",
      "include_colab_link": true
    },
    "kernelspec": {
      "name": "python3",
      "display_name": "Python 3"
    },
    "language_info": {
      "name": "python"
    }
  },
  "cells": [
    {
      "cell_type": "markdown",
      "metadata": {
        "id": "view-in-github",
        "colab_type": "text"
      },
      "source": [
        "<a href=\"https://colab.research.google.com/github/patjiang/ASICS-noise/blob/master/kmers.ipynb\" target=\"_parent\"><img src=\"https://colab.research.google.com/assets/colab-badge.svg\" alt=\"Open In Colab\"/></a>"
      ]
    },
    {
      "cell_type": "markdown",
      "source": [
        "The idea is to slice protein databank structural files (pdb's) into k-long chains, and store the associated coordinates in cartesian space. The idea is that, visualization programs take chain index as the sequence itself, and form peptide bonds between those with the associated indices in PDB files, sothere is no extra information to take slices from.\n",
        "\n",
        "tldr; use python_pdb to slice pdb files into dataframes, then store slices of k-mers as individual pdb files. Like epitope mapping, but with tertiary information for the kmers\n",
        "\n",
        "questions:\n",
        "do I need to align all of the pdb files to the origin? does it matter? or, can i just preserve the cartesian coordinates, and in a downstream processing step, use cartesian-independent information instead? (i.e. EDM, phi/psi angles)"
      ],
      "metadata": {
        "id": "OmtzybS52CKQ"
      }
    },
    {
      "cell_type": "code",
      "source": [
        "!pip install biopandas"
      ],
      "metadata": {
        "colab": {
          "base_uri": "https://localhost:8080/"
        },
        "id": "BM47wWk_4PO7",
        "outputId": "e3b6bfa0-ad9c-4358-9e0b-f5259d0fe7de"
      },
      "execution_count": null,
      "outputs": [
        {
          "output_type": "stream",
          "name": "stdout",
          "text": [
            "Collecting biopandas\n",
            "  Downloading biopandas-0.5.1-py3-none-any.whl.metadata (1.6 kB)\n",
            "Requirement already satisfied: numpy>=1.16.2 in /usr/local/lib/python3.10/dist-packages (from biopandas) (1.26.4)\n",
            "Requirement already satisfied: pandas>=0.24.2 in /usr/local/lib/python3.10/dist-packages (from biopandas) (2.2.2)\n",
            "Collecting mmtf-python==1.1.3 (from biopandas)\n",
            "  Downloading mmtf_python-1.1.3-py2.py3-none-any.whl.metadata (1.2 kB)\n",
            "Collecting looseversion==1.1.2 (from biopandas)\n",
            "  Downloading looseversion-1.1.2-py3-none-any.whl.metadata (4.6 kB)\n",
            "Requirement already satisfied: setuptools in /usr/local/lib/python3.10/dist-packages (from biopandas) (75.1.0)\n",
            "Requirement already satisfied: msgpack>=1.0.0 in /usr/local/lib/python3.10/dist-packages (from mmtf-python==1.1.3->biopandas) (1.1.0)\n",
            "Requirement already satisfied: python-dateutil>=2.8.2 in /usr/local/lib/python3.10/dist-packages (from pandas>=0.24.2->biopandas) (2.8.2)\n",
            "Requirement already satisfied: pytz>=2020.1 in /usr/local/lib/python3.10/dist-packages (from pandas>=0.24.2->biopandas) (2024.2)\n",
            "Requirement already satisfied: tzdata>=2022.7 in /usr/local/lib/python3.10/dist-packages (from pandas>=0.24.2->biopandas) (2024.2)\n",
            "Requirement already satisfied: six>=1.5 in /usr/local/lib/python3.10/dist-packages (from python-dateutil>=2.8.2->pandas>=0.24.2->biopandas) (1.16.0)\n",
            "Downloading biopandas-0.5.1-py3-none-any.whl (68 kB)\n",
            "\u001b[2K   \u001b[90m━━━━━━━━━━━━━━━━━━━━━━━━━━━━━━━━━━━━━━━━\u001b[0m \u001b[32m68.3/68.3 kB\u001b[0m \u001b[31m1.9 MB/s\u001b[0m eta \u001b[36m0:00:00\u001b[0m\n",
            "\u001b[?25hDownloading looseversion-1.1.2-py3-none-any.whl (8.1 kB)\n",
            "Downloading mmtf_python-1.1.3-py2.py3-none-any.whl (25 kB)\n",
            "Installing collected packages: mmtf-python, looseversion, biopandas\n",
            "Successfully installed biopandas-0.5.1 looseversion-1.1.2 mmtf-python-1.1.3\n"
          ]
        }
      ]
    },
    {
      "cell_type": "code",
      "execution_count": null,
      "metadata": {
        "colab": {
          "base_uri": "https://localhost:8080/",
          "height": 73
        },
        "id": "OGQl1Jmv2A6x",
        "outputId": "0fee04b7-cdfd-4357-b49b-822440b8ccfa"
      },
      "outputs": [
        {
          "output_type": "display_data",
          "data": {
            "text/plain": [
              "<IPython.core.display.HTML object>"
            ],
            "text/html": [
              "\n",
              "     <input type=\"file\" id=\"files-5aac3a34-1629-49ab-8afd-3d2c87dd2ce0\" name=\"files[]\" multiple disabled\n",
              "        style=\"border:none\" />\n",
              "     <output id=\"result-5aac3a34-1629-49ab-8afd-3d2c87dd2ce0\">\n",
              "      Upload widget is only available when the cell has been executed in the\n",
              "      current browser session. Please rerun this cell to enable.\n",
              "      </output>\n",
              "      <script>// Copyright 2017 Google LLC\n",
              "//\n",
              "// Licensed under the Apache License, Version 2.0 (the \"License\");\n",
              "// you may not use this file except in compliance with the License.\n",
              "// You may obtain a copy of the License at\n",
              "//\n",
              "//      http://www.apache.org/licenses/LICENSE-2.0\n",
              "//\n",
              "// Unless required by applicable law or agreed to in writing, software\n",
              "// distributed under the License is distributed on an \"AS IS\" BASIS,\n",
              "// WITHOUT WARRANTIES OR CONDITIONS OF ANY KIND, either express or implied.\n",
              "// See the License for the specific language governing permissions and\n",
              "// limitations under the License.\n",
              "\n",
              "/**\n",
              " * @fileoverview Helpers for google.colab Python module.\n",
              " */\n",
              "(function(scope) {\n",
              "function span(text, styleAttributes = {}) {\n",
              "  const element = document.createElement('span');\n",
              "  element.textContent = text;\n",
              "  for (const key of Object.keys(styleAttributes)) {\n",
              "    element.style[key] = styleAttributes[key];\n",
              "  }\n",
              "  return element;\n",
              "}\n",
              "\n",
              "// Max number of bytes which will be uploaded at a time.\n",
              "const MAX_PAYLOAD_SIZE = 100 * 1024;\n",
              "\n",
              "function _uploadFiles(inputId, outputId) {\n",
              "  const steps = uploadFilesStep(inputId, outputId);\n",
              "  const outputElement = document.getElementById(outputId);\n",
              "  // Cache steps on the outputElement to make it available for the next call\n",
              "  // to uploadFilesContinue from Python.\n",
              "  outputElement.steps = steps;\n",
              "\n",
              "  return _uploadFilesContinue(outputId);\n",
              "}\n",
              "\n",
              "// This is roughly an async generator (not supported in the browser yet),\n",
              "// where there are multiple asynchronous steps and the Python side is going\n",
              "// to poll for completion of each step.\n",
              "// This uses a Promise to block the python side on completion of each step,\n",
              "// then passes the result of the previous step as the input to the next step.\n",
              "function _uploadFilesContinue(outputId) {\n",
              "  const outputElement = document.getElementById(outputId);\n",
              "  const steps = outputElement.steps;\n",
              "\n",
              "  const next = steps.next(outputElement.lastPromiseValue);\n",
              "  return Promise.resolve(next.value.promise).then((value) => {\n",
              "    // Cache the last promise value to make it available to the next\n",
              "    // step of the generator.\n",
              "    outputElement.lastPromiseValue = value;\n",
              "    return next.value.response;\n",
              "  });\n",
              "}\n",
              "\n",
              "/**\n",
              " * Generator function which is called between each async step of the upload\n",
              " * process.\n",
              " * @param {string} inputId Element ID of the input file picker element.\n",
              " * @param {string} outputId Element ID of the output display.\n",
              " * @return {!Iterable<!Object>} Iterable of next steps.\n",
              " */\n",
              "function* uploadFilesStep(inputId, outputId) {\n",
              "  const inputElement = document.getElementById(inputId);\n",
              "  inputElement.disabled = false;\n",
              "\n",
              "  const outputElement = document.getElementById(outputId);\n",
              "  outputElement.innerHTML = '';\n",
              "\n",
              "  const pickedPromise = new Promise((resolve) => {\n",
              "    inputElement.addEventListener('change', (e) => {\n",
              "      resolve(e.target.files);\n",
              "    });\n",
              "  });\n",
              "\n",
              "  const cancel = document.createElement('button');\n",
              "  inputElement.parentElement.appendChild(cancel);\n",
              "  cancel.textContent = 'Cancel upload';\n",
              "  const cancelPromise = new Promise((resolve) => {\n",
              "    cancel.onclick = () => {\n",
              "      resolve(null);\n",
              "    };\n",
              "  });\n",
              "\n",
              "  // Wait for the user to pick the files.\n",
              "  const files = yield {\n",
              "    promise: Promise.race([pickedPromise, cancelPromise]),\n",
              "    response: {\n",
              "      action: 'starting',\n",
              "    }\n",
              "  };\n",
              "\n",
              "  cancel.remove();\n",
              "\n",
              "  // Disable the input element since further picks are not allowed.\n",
              "  inputElement.disabled = true;\n",
              "\n",
              "  if (!files) {\n",
              "    return {\n",
              "      response: {\n",
              "        action: 'complete',\n",
              "      }\n",
              "    };\n",
              "  }\n",
              "\n",
              "  for (const file of files) {\n",
              "    const li = document.createElement('li');\n",
              "    li.append(span(file.name, {fontWeight: 'bold'}));\n",
              "    li.append(span(\n",
              "        `(${file.type || 'n/a'}) - ${file.size} bytes, ` +\n",
              "        `last modified: ${\n",
              "            file.lastModifiedDate ? file.lastModifiedDate.toLocaleDateString() :\n",
              "                                    'n/a'} - `));\n",
              "    const percent = span('0% done');\n",
              "    li.appendChild(percent);\n",
              "\n",
              "    outputElement.appendChild(li);\n",
              "\n",
              "    const fileDataPromise = new Promise((resolve) => {\n",
              "      const reader = new FileReader();\n",
              "      reader.onload = (e) => {\n",
              "        resolve(e.target.result);\n",
              "      };\n",
              "      reader.readAsArrayBuffer(file);\n",
              "    });\n",
              "    // Wait for the data to be ready.\n",
              "    let fileData = yield {\n",
              "      promise: fileDataPromise,\n",
              "      response: {\n",
              "        action: 'continue',\n",
              "      }\n",
              "    };\n",
              "\n",
              "    // Use a chunked sending to avoid message size limits. See b/62115660.\n",
              "    let position = 0;\n",
              "    do {\n",
              "      const length = Math.min(fileData.byteLength - position, MAX_PAYLOAD_SIZE);\n",
              "      const chunk = new Uint8Array(fileData, position, length);\n",
              "      position += length;\n",
              "\n",
              "      const base64 = btoa(String.fromCharCode.apply(null, chunk));\n",
              "      yield {\n",
              "        response: {\n",
              "          action: 'append',\n",
              "          file: file.name,\n",
              "          data: base64,\n",
              "        },\n",
              "      };\n",
              "\n",
              "      let percentDone = fileData.byteLength === 0 ?\n",
              "          100 :\n",
              "          Math.round((position / fileData.byteLength) * 100);\n",
              "      percent.textContent = `${percentDone}% done`;\n",
              "\n",
              "    } while (position < fileData.byteLength);\n",
              "  }\n",
              "\n",
              "  // All done.\n",
              "  yield {\n",
              "    response: {\n",
              "      action: 'complete',\n",
              "    }\n",
              "  };\n",
              "}\n",
              "\n",
              "scope.google = scope.google || {};\n",
              "scope.google.colab = scope.google.colab || {};\n",
              "scope.google.colab._files = {\n",
              "  _uploadFiles,\n",
              "  _uploadFilesContinue,\n",
              "};\n",
              "})(self);\n",
              "</script> "
            ]
          },
          "metadata": {}
        },
        {
          "output_type": "stream",
          "name": "stdout",
          "text": [
            "Saving 4g1q.pdb to 4g1q.pdb\n"
          ]
        }
      ],
      "source": [
        "#@title testing scripts; src code/package-fied code ill be google colab independent\n",
        "from google.colab import files\n",
        "\n",
        "\n",
        "init_pdb = files.upload()\n",
        "init_fname = list(init_pdb.keys())[0]"
      ]
    },
    {
      "cell_type": "code",
      "source": [
        "import pandas as pd\n",
        "import copy\n",
        "from biopandas.pdb import PandasPdb\n",
        "import os\n",
        "aa_dict = {'CYS': 'C', 'ASP': 'D', 'SER': 'S', 'GLN': 'Q', 'LYS': 'K',\n",
        "     'ILE': 'I', 'PRO': 'P', 'THR': 'T', 'PHE': 'F', 'ASN': 'N',\n",
        "     'GLY': 'G', 'HIS': 'H', 'LEU': 'L', 'ARG': 'R', 'TRP': 'W',\n",
        "     'ALA': 'A', 'VAL':'V', 'GLU': 'E', 'TYR': 'Y', 'MET': 'M'}\n",
        "\n",
        "def norm_resnum(df):\n",
        "  b = copy.deepcopy(df)\n",
        "  if(list(b['residue_number'])[0] != 1):\n",
        "    offset = list(b['residue_number'])[0]\n",
        "    b['residue_number'] += (1 - offset)\n",
        "  return b\n",
        "\n",
        "def slice_pdb(df, idxs):\n",
        "  out = pd.DataFrame({})\n",
        "  for i in sorted(idxs):\n",
        "    tmp_df = df.loc[df['residue_number'] == i]\n",
        "    out = pd.concat([out, tmp_df], ignore_index=True)\n",
        "  rlist = [aa_dict[i.upper()] for i in list(set(out['residue_name']))]\n",
        "  rvals = ''.join(rlist)\n",
        "  return out, rvals\n",
        "\n",
        "\n",
        "def extract_kmer(k, input, out = None):\n",
        "  if out == None:\n",
        "    out = input.split('.')[0]\n",
        "  print(f\"Using: {out} as output filename head\")\n",
        "\n",
        "  ppdb = PandasPdb()\n",
        "  ppdb.read_pdb('4g1q.pdb')\n",
        "  a = ppdb.df['ATOM']\n",
        "  chains = sorted(list(set(a['chain_id'])))\n",
        "  b = a.loc[a['record_name'] != 'HETATM']\n",
        "  outlist = {}\n",
        "  for chain in chains:\n",
        "    c = b.loc[b['chain_id'] == chain]\n",
        "    d = norm_resnum(c)\n",
        "    max_res_idx = max(d['residue_number'])\n",
        "    for i in range(1, max_res_idx - k + 1):\n",
        "      to_slice = [x for x in range(i, i + k)]\n",
        "      k_mer, aas = slice_pdb(d, to_slice)\n",
        "      outlist.update({f\"{out}_res{aas}_ch{chain}_idx{i}-{i+k-1}\": k_mer})\n",
        "  return outlist, a"
      ],
      "metadata": {
        "id": "2DNYIZl74B49"
      },
      "execution_count": null,
      "outputs": []
    },
    {
      "cell_type": "code",
      "source": [
        "kmer_list, ori = extract_kmer(3, init_fname)"
      ],
      "metadata": {
        "colab": {
          "base_uri": "https://localhost:8080/"
        },
        "id": "6FKg1aca5c21",
        "outputId": "1b9d5588-2c4c-420b-fe0f-b52d26e26383"
      },
      "execution_count": null,
      "outputs": [
        {
          "output_type": "stream",
          "name": "stdout",
          "text": [
            "Using: 4g1q as output filename head\n"
          ]
        }
      ]
    },
    {
      "cell_type": "code",
      "source": [
        "if not os.path.isdir('out_structs'):\n",
        "  os.mkdir('out_structs')\n",
        "\n",
        "for i in kmer_list.keys():\n",
        "  tmp = PandasPdb()\n",
        "  tmp._df = ({'ATOM':kmer_list[i]})\n",
        "  try:\n",
        "    tmp.to_pdb(path=f'./out_structs/{i}.pdb',\n",
        "            records=['ATOM'],\n",
        "            gz=False,\n",
        "            append_newline=True)\n",
        "  except:\n",
        "    #sometimes pdb files are missing rows\n",
        "    print(\"Failed: \",i)"
      ],
      "metadata": {
        "colab": {
          "base_uri": "https://localhost:8080/"
        },
        "id": "s81-oBSvmQSl",
        "outputId": "46c2800c-beaf-4384-cc89-66cd8c7671fc"
      },
      "execution_count": null,
      "outputs": [
        {
          "output_type": "stream",
          "name": "stdout",
          "text": [
            "Failed:  4g1q_res_chB_idx212-214\n",
            "Failed:  4g1q_res_chB_idx213-215\n",
            "Failed:  4g1q_res_chB_idx214-216\n",
            "Failed:  4g1q_res_chB_idx215-217\n",
            "Failed:  4g1q_res_chB_idx216-218\n",
            "Failed:  4g1q_res_chB_idx217-219\n"
          ]
        }
      ]
    },
    {
      "cell_type": "code",
      "source": [
        "#@title Download kmers if you so choose\n",
        "!zip -r outs.zip ./out_structs\n",
        "files.download(f\"outs.zip\")"
      ],
      "metadata": {
        "cellView": "form",
        "id": "DknPIe1U-OCZ"
      },
      "execution_count": null,
      "outputs": []
    },
    {
      "cell_type": "code",
      "source": [],
      "metadata": {
        "id": "H7ymqc0g-uqK"
      },
      "execution_count": null,
      "outputs": []
    }
  ]
}